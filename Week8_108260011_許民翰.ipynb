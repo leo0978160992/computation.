{
  "nbformat": 4,
  "nbformat_minor": 0,
  "metadata": {
    "colab": {
      "name": "Week8-108260011-許民翰.ipynb",
      "provenance": [],
      "include_colab_link": true
    },
    "kernelspec": {
      "name": "python3",
      "display_name": "Python 3"
    }
  },
  "cells": [
    {
      "cell_type": "markdown",
      "metadata": {
        "id": "view-in-github",
        "colab_type": "text"
      },
      "source": [
        "<a href=\"https://colab.research.google.com/github/leo0978160992/computation./blob/master/Week8_108260011_%E8%A8%B1%E6%B0%91%E7%BF%B0.ipynb\" target=\"_parent\"><img src=\"https://colab.research.google.com/assets/colab-badge.svg\" alt=\"Open In Colab\"/></a>"
      ]
    },
    {
      "cell_type": "code",
      "metadata": {
        "id": "Ab8rErSjQVig",
        "colab_type": "code",
        "colab": {
          "base_uri": "https://localhost:8080/",
          "height": 68
        },
        "outputId": "f343c95c-a2f3-4c93-bec2-1c26b0f4c575"
      },
      "source": [
        "# 解題1:輸入兩組英文名字(名+空格+姓)\n",
        "print(\"Welcome to the Mashup Game!\")\n",
        "name1 = input(\"Enter one full name (FIRST LAST): \")\n",
        "name2 = input(\"Enter another full name (FIRST LAST): \")"
      ],
      "execution_count": 1,
      "outputs": [
        {
          "output_type": "stream",
          "text": [
            "Welcome to the Mashup Game!\n",
            "Enter one full name (FIRST LAST): Aqua Man\n",
            "Enter another full name (FIRST LAST): Cat Woman\n"
          ],
          "name": "stdout"
        }
      ]
    },
    {
      "cell_type": "code",
      "metadata": {
        "id": "SjON2EYvQedJ",
        "colab_type": "code",
        "colab": {
          "base_uri": "https://localhost:8080/",
          "height": 85
        },
        "outputId": "218be845-02c4-413d-de7a-7c4b405e2134"
      },
      "source": [
        "#解題2: 混合重組成新的英文名字\n",
        "#用find()函數找出空格的索引值,切割姓氏和名字,空格前為名字,空格後為姓氏。\n",
        "#用變數儲存姓氏和名字\n",
        "space = name1.find(\" \") #找出空格\n",
        "name1_first = name1[0:space] #名字的起始值為0,結束索引值為空格\n",
        "name1_last = name1[space+1:len(name1)] #起始值為空格,結束索引值為字串長度\n",
        "space = name2.find(\" \")\n",
        "name2_first = name2[0:space]\n",
        "name2_last = name2[space+1:len(name2)]\n",
        "print(name1_first)\n",
        "print(name1_last)\n",
        "print(name2_first)\n",
        "print(name2_last)\n",
        "#找到中間字元,切分姓氏和名字為前半部與後半部\n",
        "#長度為偶數時,對半分配,中間字元即為索引值。\n",
        "#長度為奇數(偶數)時,將字串長度除以2後,用int()取整數為索引值。\n",
        "len_name1_first = len(name1_first)\n",
        "len_name2_first = len(name2_first)\n",
        "len_name1_last = len(name1_last)\n",
        "len_name2_last = len(name2_last)\n",
        "index_name1_first = int(len_name1_first/2)\n",
        "index_name2_first = int(len_name2_first/2)\n",
        "index_name1_last = int(len_name1_last/2)\n",
        "index_name2_last = int(len_name2_last/2)\n",
        "#依照索引值找出對應前後半部字元,存入新變數。\n",
        "lefthalf_name1_first = name1_first[0:index_name1_first]\n",
        "righthalf_name1_first = name1_first[index_name1_first:len_name1_first]\n",
        "lefthalf_name2_first = name2_first[0:index_name2_first]\n",
        "righthalf_name2_first = name2_first[index_name2_first:len_name2_first]\n",
        "lefthalf_name1_last = name1_last[0:index_name1_last]\n",
        "righthalf_name1_last = name1_last[index_name1_last:len_name1_last]\n",
        "lefthalf_name2_last = name2_last[0:index_name2_last]\n",
        "righthalf_name2_last = name2_last[index_name2_last:len_name2_last]\n",
        "#重組名字\n",
        "#用+連接姓與名,第一個字母大寫,其餘全部小寫\n",
        "newname1_first = lefthalf_name1_first.capitalize() + righthalf_name1_first.lower()\n",
        "#B\n",
        "newname1_last = lefthalf_name1_last.capitalize() + righthalf_name2_last.lower()\n",
        "newname2_first = lefthalf_name2_first.capitalize() + righthalf_name1_first.lower()\n",
        "newname2_last = lefthalf_name2_last.capitalize() + righthalf_name1_last.lower()"
      ],
      "execution_count": 2,
      "outputs": [
        {
          "output_type": "stream",
          "text": [
            "Aqua\n",
            "Man\n",
            "Cat\n",
            "Woman\n"
          ],
          "name": "stdout"
        }
      ]
    },
    {
      "cell_type": "code",
      "metadata": {
        "id": "TuVcfy4vQrT6",
        "colab_type": "code",
        "colab": {
          "base_uri": "https://localhost:8080/",
          "height": 68
        },
        "outputId": "d1ed10ee-1b37-4cfb-ecc6-2602616dc79f"
      },
      "source": [
        "#解題3:輸出新的英文名字\n",
        "print(\"All done! Here are two possibilities, pick the one you like best!\")\n",
        "print(newname1_first, newname1_last)\n",
        "print(newname2_first, newname2_last)"
      ],
      "execution_count": 3,
      "outputs": [
        {
          "output_type": "stream",
          "text": [
            "All done! Here are two possibilities, pick the one you like best!\n",
            "Aqua Mman\n",
            "Cua Woan\n"
          ],
          "name": "stdout"
        }
      ]
    },
    {
      "cell_type": "code",
      "metadata": {
        "id": "TQIV99s6QuLA",
        "colab_type": "code",
        "colab": {
          "base_uri": "https://localhost:8080/",
          "height": 119
        },
        "outputId": "74b28cc0-f649-45a5-f991-6dca2ecd2fd7"
      },
      "source": [
        "#完整解題\n",
        "print(\"Welcome to the Mashup Game!\")\n",
        "name1 = input(\"Enter one full name (FIRST LAST): \")\n",
        "name2 = input(\"Enter another full name (FIRST LAST): \")\n",
        "space = name1.find(\" \")\n",
        "name1_first = name1[0:space]\n",
        "name1_last = name1[space+1:len(name1)]\n",
        "space = name2.find(\" \")\n",
        "name2_first = name2[0:space]\n",
        "name2_last = name2[space+1:len(name2)]\n",
        "len_name1_first = len(name1_first)\n",
        "len_name2_first = len(name2_first)\n",
        "len_name1_last = len(name1_last)\n",
        "len_name2_last = len(name2_last)\n",
        "index_name1_first = int(len_name1_first/2)\n",
        "index_name2_first = int(len_name2_first/2)\n",
        "index_name1_last = int(len_name1_last/2)\n",
        "index_name2_last = int(len_name2_last/2)\n",
        "lefthalf_name1_first = name1_first[0:index_name1_first]\n",
        "righthalf_name1_first = name1_first[index_name1_first:len_name1_first]\n",
        "lefthalf_name2_first = name2_first[0:index_name2_first]\n",
        "righthalf_name2_first = name2_first[index_name2_first:len_name2_first]\n",
        "lefthalf_name1_last = name1_last[0:index_name1_last]\n",
        "righthalf_name1_last = name1_last[index_name1_last:len_name1_last]\n",
        "lefthalf_name2_last = name2_last[0:index_name2_last]\n",
        "righthalf_name2_last = name2_last[index_name2_last:len_name2_last]\n",
        "newname1_first = lefthalf_name1_first.capitalize() + righthalf_name1_first.lower()\n",
        "#B\n",
        "newname1_last = lefthalf_name1_last.capitalize() + righthalf_name2_last.lower()\n",
        "newname2_first = lefthalf_name2_first.capitalize() + righthalf_name1_first.lower()\n",
        "newname2_last = lefthalf_name2_last.capitalize() + righthalf_name1_last.lower()\n",
        "print(\"All done! Here are two possibilities, pick the one you like best!\")\n",
        "print(newname1_first, newname1_last)\n",
        "print(newname2_first, newname2_last)"
      ],
      "execution_count": 4,
      "outputs": [
        {
          "output_type": "stream",
          "text": [
            "Welcome to the Mashup Game!\n",
            "Enter one full name (FIRST LAST): Bigflower Francis\n",
            "Enter another full name (FIRST LAST): Hunghua Tien\n",
            "All done! Here are two possibilities, pick the one you like best!\n",
            "Bigflower Fraen\n",
            "Hunlower Tincis\n"
          ],
          "name": "stdout"
        }
      ]
    },
    {
      "cell_type": "code",
      "metadata": {
        "id": "_92yTHbnQxbe",
        "colab_type": "code",
        "colab": {
          "base_uri": "https://localhost:8080/",
          "height": 51
        },
        "outputId": "6f8fb711-00f8-43a4-c271-980a855a750b"
      },
      "source": [
        "s = input('請輸入一個字串?')\n",
        "print('迴文判斷結果為', s == s[::-1])"
      ],
      "execution_count": 5,
      "outputs": [
        {
          "output_type": "stream",
          "text": [
            "請輸入一個字串?abcdefggfedcba\n",
            "迴文判斷結果為 True\n"
          ],
          "name": "stdout"
        }
      ]
    },
    {
      "cell_type": "code",
      "metadata": {
        "id": "j4ajxUf3RqYC",
        "colab_type": "code",
        "colab": {
          "base_uri": "https://localhost:8080/",
          "height": 136
        },
        "outputId": "6f4222b5-651b-4f57-e9c5-1ef9501242f6"
      },
      "source": [
        "待辦事項 = []\n",
        "工作 = input('請輸入待辦事項?')\n",
        "待辦事項.append(工作)\n",
        "工作 = input('請輸入待辦事項?')\n",
        "待辦事項.append(工作)\n",
        "工作 = input('請輸入待辦事項?')\n",
        "待辦事項.append(工作)\n",
        "工作 = input('請輸入待辦事項?')\n",
        "待辦事項.append(工作)\n",
        "工作 = input('請輸入待辦事項?')\n",
        "待辦事項.append(工作)\n",
        "print(待辦事項.pop(0), 待辦事項.pop(0), 待辦事項)\n",
        "print(待辦事項.pop(), 待辦事項)"
      ],
      "execution_count": 6,
      "outputs": [
        {
          "output_type": "stream",
          "text": [
            "請輸入待辦事項?打球\n",
            "請輸入待辦事項?閱讀\n",
            "請輸入待辦事項?吃飯\n",
            "請輸入待辦事項?借書\n",
            "請輸入待辦事項?寫程式\n",
            "打球 閱讀 ['吃飯', '借書', '寫程式']\n",
            "寫程式 ['吃飯', '借書']\n"
          ],
          "name": "stdout"
        }
      ]
    },
    {
      "cell_type": "code",
      "metadata": {
        "id": "hh2Et6aRRw0r",
        "colab_type": "code",
        "colab": {
          "base_uri": "https://localhost:8080/",
          "height": 85
        },
        "outputId": "9e069ac5-84b6-4527-f1f7-3d30393b734a"
      },
      "source": [
        "字典 = {'dog':'狗', 'fish':'魚', 'cat':'貓', 'pig':'豬'}\n",
        "print(字典.keys())\n",
        "print(字典)\n",
        "英文 = input('請輸入一個英文單字?')\n",
        "print(字典.get(英文,'字典找不到該單字'))"
      ],
      "execution_count": 7,
      "outputs": [
        {
          "output_type": "stream",
          "text": [
            "dict_keys(['dog', 'fish', 'cat', 'pig'])\n",
            "{'dog': '狗', 'fish': '魚', 'cat': '貓', 'pig': '豬'}\n",
            "請輸入一個英文單字?dog\n",
            "狗\n"
          ],
          "name": "stdout"
        }
      ]
    },
    {
      "cell_type": "code",
      "metadata": {
        "id": "-KNBy26eR8E4",
        "colab_type": "code",
        "colab": {
          "base_uri": "https://localhost:8080/",
          "height": 85
        },
        "outputId": "41a600d0-6951-4604-f3bc-dd598504c32a"
      },
      "source": [
        "字典 = {'dog':'狗', 'fish':'魚', 'cat':'貓', 'pig':'豬'}\n",
        "print(字典.keys())\n",
        "print(字典)\n",
        "英文 = input('請輸入一個英文單字?')\n",
        "print(字典.get(英文,'字典找不到該單字'))"
      ],
      "execution_count": 8,
      "outputs": [
        {
          "output_type": "stream",
          "text": [
            "dict_keys(['dog', 'fish', 'cat', 'pig'])\n",
            "{'dog': '狗', 'fish': '魚', 'cat': '貓', 'pig': '豬'}\n",
            "請輸入一個英文單字?turtle\n",
            "字典找不到該單字\n"
          ],
          "name": "stdout"
        }
      ]
    },
    {
      "cell_type": "code",
      "metadata": {
        "id": "_3kseHpTSAke",
        "colab_type": "code",
        "colab": {
          "base_uri": "https://localhost:8080/",
          "height": 34
        },
        "outputId": "d092c49a-3c85-4f5b-acac-4f6acadbe2f4"
      },
      "source": [
        "詩 = '春眠不覺曉,處處聞啼鳥。夜來風雨聲,花落知多少。'\n",
        "字 = set(詩)\n",
        "字.remove(',')\n",
        "字.remove('。')\n",
        "print(字)"
      ],
      "execution_count": 9,
      "outputs": [
        {
          "output_type": "stream",
          "text": [
            "{'聲', '花', '雨', '覺', '夜', '來', '落', '曉', '處', '春', '風', '鳥', '眠', '不', '聞', '多', '啼', '知', '少'}\n"
          ],
          "name": "stdout"
        }
      ]
    },
    {
      "cell_type": "code",
      "metadata": {
        "id": "aEiwbFr7SEWU",
        "colab_type": "code",
        "colab": {
          "base_uri": "https://localhost:8080/",
          "height": 51
        },
        "outputId": "f92d06a5-100a-40cb-82dc-6ab64f8c71ac"
      },
      "source": [
        "星期 = ['Sunday', 'Monday', 'Tuesday', 'Wednesday', 'Thursday', 'Friday', 'Saturday']\n",
        "月份 = ['January', 'February', 'March', 'April', 'May', 'June', \\\n",
        "'July', 'August', 'September', 'October', 'November', 'December']\n",
        "dic = {'week':星期, 'month':月份}\n",
        "print(dic['month'])\n",
        "print(dic['month'][7])"
      ],
      "execution_count": 10,
      "outputs": [
        {
          "output_type": "stream",
          "text": [
            "['January', 'February', 'March', 'April', 'May', 'June', 'July', 'August', 'September', 'October', 'November', 'December']\n",
            "August\n"
          ],
          "name": "stdout"
        }
      ]
    },
    {
      "cell_type": "code",
      "metadata": {
        "id": "HeiAf1t7SG9T",
        "colab_type": "code",
        "colab": {
          "base_uri": "https://localhost:8080/",
          "height": 85
        },
        "outputId": "81a02982-a764-4a17-f6c8-805e8f8f0d3d"
      },
      "source": [
        "s = input('請輸入一行英文句子?')\n",
        "words = s.split(' ')\n",
        "print('將英文句子以空白字元切割後,獲得單字為', words)\n",
        "s2 = ' '.join(words)\n",
        "print('以空白字元結合所有單字後,獲得句子為', s2)\n",
        "s3 = s.title()\n",
        "print('將每個單字字首轉大寫後,獲得句子為',s3)"
      ],
      "execution_count": 11,
      "outputs": [
        {
          "output_type": "stream",
          "text": [
            "請輸入一行英文句子?an apple a day keeps the doctor away\n",
            "將英文句子以空白字元切割後,獲得單字為 ['an', 'apple', 'a', 'day', 'keeps', 'the', 'doctor', 'away']\n",
            "以空白字元結合所有單字後,獲得句子為 an apple a day keeps the doctor away\n",
            "將每個單字字首轉大寫後,獲得句子為 An Apple A Day Keeps The Doctor Away\n"
          ],
          "name": "stdout"
        }
      ]
    },
    {
      "cell_type": "code",
      "metadata": {
        "id": "DJXdMe7hSKgk",
        "colab_type": "code",
        "colab": {
          "base_uri": "https://localhost:8080/",
          "height": 51
        },
        "outputId": "3af2d673-8950-49cc-db73-0818484e97fc"
      },
      "source": [
        "s = input('請輸入一行英文句子?')\n",
        "s.strip(' .')\n",
        "words = s.split(' ')\n",
        "print(words[::-1])"
      ],
      "execution_count": 12,
      "outputs": [
        {
          "output_type": "stream",
          "text": [
            "請輸入一行英文句子?an apple a day keeps the doctor away\n",
            "['away', 'doctor', 'the', 'keeps', 'day', 'a', 'apple', 'an']\n"
          ],
          "name": "stdout"
        }
      ]
    },
    {
      "cell_type": "code",
      "metadata": {
        "id": "VbXI8g29STfw",
        "colab_type": "code",
        "colab": {
          "base_uri": "https://localhost:8080/",
          "height": 68
        },
        "outputId": "1e536c67-8ae7-4fee-d432-eb0d5fe9d571"
      },
      "source": [
        "全班學生 = set(['John', 'Mary', 'Tina', 'Fiona', 'Claire', 'Eva', 'Ben', 'Bill', 'Bert'\n",
        "])\n",
        "英文及格 = set(['John', 'Mary', 'Fiona', 'Claire', 'Ben', 'Bill'])\n",
        "數學及格 = set(['Mary', 'Fiona', 'Claire', 'Eva', 'Ben'])\n",
        "print('英文與數學都及格', 英文及格&數學及格)\n",
        "print('數學不及格', 全班學生-數學及格)\n",
        "print('英文及格與數學不及格', 英文及格&(全班學生-數學及格))"
      ],
      "execution_count": 13,
      "outputs": [
        {
          "output_type": "stream",
          "text": [
            "英文與數學都及格 {'Ben', 'Mary', 'Claire', 'Fiona'}\n",
            "數學不及格 {'John', 'Bill', 'Tina', 'Bert'}\n",
            "英文及格與數學不及格 {'John', 'Bill'}\n"
          ],
          "name": "stdout"
        }
      ]
    },
    {
      "cell_type": "code",
      "metadata": {
        "id": "IeLPsptuSZxp",
        "colab_type": "code",
        "colab": {
          "base_uri": "https://localhost:8080/",
          "height": 34
        },
        "outputId": "7f9d5c88-aee9-43e6-e1d7-400d520db848"
      },
      "source": [
        "p1 = '紅豆生南國,春來發幾枝?願君多采擷,此物最相思。'\n",
        "p2 = '春眠不覺曉,處處聞啼鳥。夜來風雨聲,花落知多少。'\n",
        "s1 = set(p1)\n",
        "s1.remove(',')\n",
        "s1.remove('。')\n",
        "s1.remove('?')\n",
        "s2 = set(p2)\n",
        "s2.remove(',')\n",
        "s2.remove('。')\n",
        "print(s1&s2)"
      ],
      "execution_count": 14,
      "outputs": [
        {
          "output_type": "stream",
          "text": [
            "{'春', '多', '來'}\n"
          ],
          "name": "stdout"
        }
      ]
    },
    {
      "cell_type": "code",
      "metadata": {
        "id": "7Qwbh41xSc1w",
        "colab_type": "code",
        "colab": {
          "base_uri": "https://localhost:8080/",
          "height": 153
        },
        "outputId": "7cdd7f7e-1737-4d4b-dc87-0b235011adc5"
      },
      "source": [
        "mail = dict()\n",
        "name = input('請輸入姓名?')\n",
        "email = input('請輸入電子郵件?')\n",
        "mail[name]=email\n",
        "name = input('請輸入姓名?')\n",
        "email = input('請輸入電子郵件?')\n",
        "mail[name]=email\n",
        "name = input('請輸入姓名?')\n",
        "email = input('請輸入電子郵件?')\n",
        "mail[name]=email\n",
        "name = input('請輸入要查詢電子郵件的姓名?')\n",
        "print(mail[name])"
      ],
      "execution_count": 15,
      "outputs": [
        {
          "output_type": "stream",
          "text": [
            "請輸入姓名?john\n",
            "請輸入電子郵件?john@xxx.tw\n",
            "請輸入姓名?claire\n",
            "請輸入電子郵件?claire@xxx.tw\n",
            "請輸入姓名?Fiona\n",
            "請輸入電子郵件?fiona@xxx.tw\n",
            "請輸入要查詢電子郵件的姓名?claire\n",
            "claire@xxx.tw\n"
          ],
          "name": "stdout"
        }
      ]
    },
    {
      "cell_type": "code",
      "metadata": {
        "id": "uPq0bNs-S2xM",
        "colab_type": "code",
        "colab": {}
      },
      "source": [
        ""
      ],
      "execution_count": 0,
      "outputs": []
    },
    {
      "cell_type": "code",
      "metadata": {
        "id": "7lQbmGVLSfvm",
        "colab_type": "code",
        "colab": {}
      },
      "source": [
        ""
      ],
      "execution_count": 0,
      "outputs": []
    }
  ]
}