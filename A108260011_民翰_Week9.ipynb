{
  "nbformat": 4,
  "nbformat_minor": 0,
  "metadata": {
    "colab": {
      "name": "A108260011-民翰-Week9.ipynb",
      "provenance": [],
      "include_colab_link": true
    },
    "kernelspec": {
      "name": "python2",
      "display_name": "Python 2"
    }
  },
  "cells": [
    {
      "cell_type": "markdown",
      "metadata": {
        "id": "view-in-github",
        "colab_type": "text"
      },
      "source": [
        "<a href=\"https://colab.research.google.com/github/leo0978160992/computation./blob/master/A108260011_%E6%B0%91%E7%BF%B0_Week9.ipynb\" target=\"_parent\"><img src=\"https://colab.research.google.com/assets/colab-badge.svg\" alt=\"Open In Colab\"/></a>"
      ]
    },
    {
      "cell_type": "code",
      "metadata": {
        "id": "eUZiCT8orVDG",
        "colab_type": "code",
        "outputId": "5af81b92-331c-46bf-e19c-0748f7cc6240",
        "colab": {
          "base_uri": "https://localhost:8080/",
          "height": 51
        }
      },
      "source": [
        "score=int(input('請輸入一個成績'))\n",
        "if score>=60:\n",
        "       print('很好')"
      ],
      "execution_count": 0,
      "outputs": [
        {
          "output_type": "stream",
          "text": [
            "請輸入一個成績60\n",
            "很好\n"
          ],
          "name": "stdout"
        }
      ]
    },
    {
      "cell_type": "code",
      "metadata": {
        "id": "IfXghlpeuLEg",
        "colab_type": "code",
        "outputId": "7afcfc3a-12eb-44fb-e8a2-b6c38162979c",
        "colab": {
          "base_uri": "https://localhost:8080/",
          "height": 51
        }
      },
      "source": [
        "cost=int(input('請輸入購買金額'))\n",
        "if cost>=2000:\n",
        "       print(cost*0.9)\n",
        "else:\n",
        "     print(cost) "
      ],
      "execution_count": 0,
      "outputs": [
        {
          "output_type": "stream",
          "text": [
            "請輸入購買金額2000\n",
            "1800.0\n"
          ],
          "name": "stdout"
        }
      ]
    },
    {
      "cell_type": "code",
      "metadata": {
        "id": "9XJ2UH2tu5i-",
        "colab_type": "code",
        "outputId": "84d6fe4a-e715-4ede-edc1-968171a3b1bd",
        "colab": {
          "base_uri": "https://localhost:8080/",
          "height": 51
        }
      },
      "source": [
        "num=int(input('請輸入一個整數?'))\n",
        "if num%2:\n",
        "    print(num,'為奇數')\n",
        "else:\n",
        "    print(num,'為偶數')"
      ],
      "execution_count": 0,
      "outputs": [
        {
          "output_type": "stream",
          "text": [
            "請輸入一個整數?13\n",
            "(13, '\\xe7\\x82\\xba\\xe5\\xa5\\x87\\xe6\\x95\\xb8')\n"
          ],
          "name": "stdout"
        }
      ]
    },
    {
      "cell_type": "code",
      "metadata": {
        "id": "Jgbsp7Hevf1c",
        "colab_type": "code",
        "outputId": "ac85f034-b834-4ae0-b72d-1d42bdd5160a",
        "colab": {
          "base_uri": "https://localhost:8080/",
          "height": 51
        }
      },
      "source": [
        "m=int(input(\"請輸入價錢?\"))\n",
        "if m>=2000:\n",
        "    print(m*0.9)\n",
        "else:\n",
        "    print(m)"
      ],
      "execution_count": 0,
      "outputs": [
        {
          "output_type": "stream",
          "text": [
            "請輸入價錢?3000\n",
            "2700.0\n"
          ],
          "name": "stdout"
        }
      ]
    },
    {
      "cell_type": "code",
      "metadata": {
        "id": "TGx6deCJvoA0",
        "colab_type": "code",
        "colab": {}
      },
      "source": [
        ""
      ],
      "execution_count": 0,
      "outputs": []
    }
  ]
}